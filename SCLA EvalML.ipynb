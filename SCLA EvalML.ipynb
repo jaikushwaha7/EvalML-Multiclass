{
 "cells": [
  {
   "cell_type": "markdown",
   "metadata": {},
   "source": [
    "# SCLA Assigment"
   ]
  },
  {
   "cell_type": "code",
   "execution_count": 3,
   "metadata": {},
   "outputs": [],
   "source": [
    "import evalml\n",
    "X, y = evalml.demos.load_breast_cancer()\n",
    "X_train, X_test, y_train, y_test = evalml.preprocessing.split_data(X, y, problem_type='binary')"
   ]
  },
  {
   "cell_type": "code",
   "execution_count": 4,
   "metadata": {},
   "outputs": [
    {
     "data": {
      "text/plain": [
       "woodwork.datatable.DataTable"
      ]
     },
     "execution_count": 4,
     "metadata": {},
     "output_type": "execute_result"
    }
   ],
   "source": [
    "type(X)"
   ]
  },
  {
   "cell_type": "code",
   "execution_count": 18,
   "metadata": {},
   "outputs": [],
   "source": [
    "import datatable as dt\n",
    "import pandas as pd\n",
    "import numpy as np\n",
    "DT = dt.fread(\"09_Inventory.xlsx\")\n",
    "df = pd.read_excel('09_Inventory.xlsx')"
   ]
  },
  {
   "cell_type": "code",
   "execution_count": 8,
   "metadata": {},
   "outputs": [
    {
     "data": {
      "text/html": [
       "<div class='datatable'>\n",
       "  <table class='frame'>\n",
       "  <thead>\n",
       "    <tr class='colnames'><td class='row_index'></td><th>Order Date</th><th>Order ID</th><th>Order Quantity</th><th>Product Container</th><th>Product Name</th><th>Product Sub-Category</th><th>Sales</th><th>Ship Mode</th></tr>\n",
       "    <tr class='coltypes'><td class='row_index'></td><td class='str' title='str32'>&#x25AA;&#x25AA;&#x25AA;&#x25AA;</td><td class='int' title='int32'>&#x25AA;&#x25AA;&#x25AA;&#x25AA;</td><td class='int' title='int32'>&#x25AA;&#x25AA;&#x25AA;&#x25AA;</td><td class='str' title='str32'>&#x25AA;&#x25AA;&#x25AA;&#x25AA;</td><td class='str' title='str32'>&#x25AA;&#x25AA;&#x25AA;&#x25AA;</td><td class='str' title='str32'>&#x25AA;&#x25AA;&#x25AA;&#x25AA;</td><td class='int' title='int32'>&#x25AA;&#x25AA;&#x25AA;&#x25AA;</td><td class='str' title='str32'>&#x25AA;&#x25AA;&#x25AA;&#x25AA;</td></tr>\n",
       "  </thead>\n",
       "  <tbody>\n",
       "    <tr><td class='row_index'>0</td><td>1/27/2007</td><td>24544</td><td>31</td><td>Medium Box</td><td>Canon MP41DH Printing Calculator</td><td>Office Machines</td><td>6567</td><td>Express Air</td></tr>\n",
       "    <tr><td class='row_index'>1</td><td>1/27/2007</td><td>24544</td><td>39</td><td>Large Box</td><td>Fellowes Neat Ideas® Storage Cubes</td><td>Storage &amp; Organization</td><td>1780</td><td>Regular Air</td></tr>\n",
       "    <tr><td class='row_index'>2</td><td>1/27/2007</td><td>24544</td><td>15</td><td>Jumbo Drum</td><td>Global Stack Chair without Arms, Black</td><td>Chairs &amp; Chairmats</td><td>578</td><td>Delivery Truck</td></tr>\n",
       "    <tr><td class='row_index'>3</td><td>1/27/2007</td><td>20422</td><td>30</td><td>Small Pack</td><td>Nu-Dell Leatherette Frames</td><td>Office Furnishings</td><td>611</td><td>Regular Air</td></tr>\n",
       "    <tr><td class='row_index'>4</td><td>1/27/2007</td><td>55937</td><td>10</td><td>Small Box</td><td>IBM Active Response Keyboard, Black</td><td>Computer Peripherals</td><td>517</td><td>Regular Air</td></tr>\n",
       "    <tr><td class='row_index'>5</td><td>1/27/2007</td><td>20422</td><td>5</td><td>Small Box</td><td>Avery 498</td><td>Labels</td><td>21</td><td>Regular Air</td></tr>\n",
       "    <tr><td class='row_index'>6</td><td>1/27/2007</td><td>17186</td><td>11</td><td>Small Box</td><td>Xerox 1947</td><td>Paper</td><td>93</td><td>Regular Air</td></tr>\n",
       "    <tr><td class='row_index'>7</td><td>1/27/2007</td><td>55937</td><td>24</td><td>Jumbo Box</td><td>Bretford Rectangular Conference Table Tops</td><td>Tables</td><td>9652</td><td>Delivery Truck</td></tr>\n",
       "    <tr><td class='row_index'>8</td><td>1/27/2007</td><td>17186</td><td>49</td><td>Medium Box</td><td>Eldon ClusterMat Chair Mat with Cordless Antistati&#133;</td><td>Office Furnishings</td><td>5973</td><td>Regular Air</td></tr>\n",
       "    <tr><td class='row_index'>9</td><td>1/28/2007</td><td>11686</td><td>38</td><td>Small Box</td><td>V70</td><td>Telephones and Communication</td><td>8562</td><td>Regular Air</td></tr>\n",
       "  </tbody>\n",
       "  </table>\n",
       "  <div class='footer'>\n",
       "    <div class='frame_dimensions'>10 rows &times; 8 columns</div>\n",
       "  </div>\n",
       "</div>\n"
      ],
      "text/plain": [
       "<Frame#1f7672f16c0 10x8>"
      ]
     },
     "execution_count": 8,
     "metadata": {},
     "output_type": "execute_result"
    }
   ],
   "source": [
    "DT.head()"
   ]
  },
  {
   "cell_type": "code",
   "execution_count": 19,
   "metadata": {},
   "outputs": [
    {
     "data": {
      "text/html": [
       "<div>\n",
       "<style scoped>\n",
       "    .dataframe tbody tr th:only-of-type {\n",
       "        vertical-align: middle;\n",
       "    }\n",
       "\n",
       "    .dataframe tbody tr th {\n",
       "        vertical-align: top;\n",
       "    }\n",
       "\n",
       "    .dataframe thead th {\n",
       "        text-align: right;\n",
       "    }\n",
       "</style>\n",
       "<table border=\"1\" class=\"dataframe\">\n",
       "  <thead>\n",
       "    <tr style=\"text-align: right;\">\n",
       "      <th></th>\n",
       "      <th>Order Date</th>\n",
       "      <th>Order ID</th>\n",
       "      <th>Order Quantity</th>\n",
       "      <th>Product Container</th>\n",
       "      <th>Product Name</th>\n",
       "      <th>Product Sub-Category</th>\n",
       "      <th>Sales</th>\n",
       "      <th>Ship Mode</th>\n",
       "    </tr>\n",
       "  </thead>\n",
       "  <tbody>\n",
       "    <tr>\n",
       "      <th>0</th>\n",
       "      <td>1/27/2007</td>\n",
       "      <td>24544</td>\n",
       "      <td>31</td>\n",
       "      <td>Medium Box</td>\n",
       "      <td>Canon MP41DH Printing Calculator</td>\n",
       "      <td>Office Machines</td>\n",
       "      <td>6567</td>\n",
       "      <td>Express Air</td>\n",
       "    </tr>\n",
       "    <tr>\n",
       "      <th>1</th>\n",
       "      <td>1/27/2007</td>\n",
       "      <td>24544</td>\n",
       "      <td>39</td>\n",
       "      <td>Large Box</td>\n",
       "      <td>Fellowes Neat Ideas® Storage Cubes</td>\n",
       "      <td>Storage &amp; Organization</td>\n",
       "      <td>1780</td>\n",
       "      <td>Regular Air</td>\n",
       "    </tr>\n",
       "    <tr>\n",
       "      <th>2</th>\n",
       "      <td>1/27/2007</td>\n",
       "      <td>24544</td>\n",
       "      <td>15</td>\n",
       "      <td>Jumbo Drum</td>\n",
       "      <td>Global Stack Chair without Arms, Black</td>\n",
       "      <td>Chairs &amp; Chairmats</td>\n",
       "      <td>578</td>\n",
       "      <td>Delivery Truck</td>\n",
       "    </tr>\n",
       "    <tr>\n",
       "      <th>3</th>\n",
       "      <td>1/27/2007</td>\n",
       "      <td>20422</td>\n",
       "      <td>30</td>\n",
       "      <td>Small Pack</td>\n",
       "      <td>Nu-Dell Leatherette Frames</td>\n",
       "      <td>Office Furnishings</td>\n",
       "      <td>611</td>\n",
       "      <td>Regular Air</td>\n",
       "    </tr>\n",
       "    <tr>\n",
       "      <th>4</th>\n",
       "      <td>1/27/2007</td>\n",
       "      <td>55937</td>\n",
       "      <td>10</td>\n",
       "      <td>Small Box</td>\n",
       "      <td>IBM Active Response Keyboard, Black</td>\n",
       "      <td>Computer Peripherals</td>\n",
       "      <td>517</td>\n",
       "      <td>Regular Air</td>\n",
       "    </tr>\n",
       "  </tbody>\n",
       "</table>\n",
       "</div>"
      ],
      "text/plain": [
       "  Order Date  Order ID  Order Quantity Product Container  \\\n",
       "0  1/27/2007     24544              31        Medium Box   \n",
       "1  1/27/2007     24544              39         Large Box   \n",
       "2  1/27/2007     24544              15        Jumbo Drum   \n",
       "3  1/27/2007     20422              30        Small Pack   \n",
       "4  1/27/2007     55937              10         Small Box   \n",
       "\n",
       "                             Product Name    Product Sub-Category  Sales  \\\n",
       "0        Canon MP41DH Printing Calculator         Office Machines   6567   \n",
       "1      Fellowes Neat Ideas® Storage Cubes  Storage & Organization   1780   \n",
       "2  Global Stack Chair without Arms, Black      Chairs & Chairmats    578   \n",
       "3              Nu-Dell Leatherette Frames      Office Furnishings    611   \n",
       "4     IBM Active Response Keyboard, Black    Computer Peripherals    517   \n",
       "\n",
       "        Ship Mode  \n",
       "0     Express Air  \n",
       "1     Regular Air  \n",
       "2  Delivery Truck  \n",
       "3     Regular Air  \n",
       "4     Regular Air  "
      ]
     },
     "execution_count": 19,
     "metadata": {},
     "output_type": "execute_result"
    }
   ],
   "source": [
    "df.head()"
   ]
  },
  {
   "cell_type": "code",
   "execution_count": 21,
   "metadata": {},
   "outputs": [],
   "source": [
    "#X=DT[:,0:7]\n",
    "#y= DT[:,7]\n",
    "X = df.drop('Ship Mode',axis=1)\n",
    "y = df['Ship Mode']\n",
    "X_train, X_test, y_train, y_test = evalml.preprocessing.split_data(X, y, problem_type='Multiclass')"
   ]
  },
  {
   "cell_type": "code",
   "execution_count": 22,
   "metadata": {},
   "outputs": [
    {
     "data": {
      "text/plain": [
       "(6282, 7)"
      ]
     },
     "execution_count": 22,
     "metadata": {},
     "output_type": "execute_result"
    }
   ],
   "source": [
    "X_train.shape"
   ]
  },
  {
   "cell_type": "code",
   "execution_count": 23,
   "metadata": {},
   "outputs": [
    {
     "data": {
      "text/html": [
       "<div>\n",
       "<style scoped>\n",
       "    .dataframe tbody tr th:only-of-type {\n",
       "        vertical-align: middle;\n",
       "    }\n",
       "\n",
       "    .dataframe tbody tr th {\n",
       "        vertical-align: top;\n",
       "    }\n",
       "\n",
       "    .dataframe thead tr th {\n",
       "        text-align: left;\n",
       "    }\n",
       "</style>\n",
       "<table border=\"1\" class=\"dataframe\">\n",
       "  <thead>\n",
       "    <tr>\n",
       "      <th>Data Column</th>\n",
       "      <th>Order Date</th>\n",
       "      <th>Order ID</th>\n",
       "      <th>Order Quantity</th>\n",
       "      <th>Product Container</th>\n",
       "      <th>Product Name</th>\n",
       "      <th>Product Sub-Category</th>\n",
       "      <th>Sales</th>\n",
       "    </tr>\n",
       "    <tr>\n",
       "      <th>Physical Type</th>\n",
       "      <th>datetime64[ns]</th>\n",
       "      <th>Int64</th>\n",
       "      <th>Int64</th>\n",
       "      <th>category</th>\n",
       "      <th>string</th>\n",
       "      <th>string</th>\n",
       "      <th>Int64</th>\n",
       "    </tr>\n",
       "    <tr>\n",
       "      <th>Logical Type</th>\n",
       "      <th>Datetime</th>\n",
       "      <th>Integer</th>\n",
       "      <th>Integer</th>\n",
       "      <th>Categorical</th>\n",
       "      <th>NaturalLanguage</th>\n",
       "      <th>NaturalLanguage</th>\n",
       "      <th>Integer</th>\n",
       "    </tr>\n",
       "    <tr>\n",
       "      <th>Semantic Tag(s)</th>\n",
       "      <th>[]</th>\n",
       "      <th>['numeric']</th>\n",
       "      <th>['numeric']</th>\n",
       "      <th>['category']</th>\n",
       "      <th>[]</th>\n",
       "      <th>[]</th>\n",
       "      <th>['numeric']</th>\n",
       "    </tr>\n",
       "  </thead>\n",
       "  <tbody>\n",
       "    <tr>\n",
       "      <th>1682</th>\n",
       "      <td>2007-11-24</td>\n",
       "      <td>48295</td>\n",
       "      <td>48</td>\n",
       "      <td>Medium Box</td>\n",
       "      <td>Soundgear Copyboard Conference Phone, Optional...</td>\n",
       "      <td>Office Machines</td>\n",
       "      <td>11836</td>\n",
       "    </tr>\n",
       "    <tr>\n",
       "      <th>5601</th>\n",
       "      <td>2009-11-18</td>\n",
       "      <td>36640</td>\n",
       "      <td>18</td>\n",
       "      <td>Small Pack</td>\n",
       "      <td>Verbatim DVD-R, 3.95GB, SR, Mitsubishi Branded...</td>\n",
       "      <td>Computer Peripherals</td>\n",
       "      <td>884</td>\n",
       "    </tr>\n",
       "    <tr>\n",
       "      <th>3249</th>\n",
       "      <td>2008-10-09</td>\n",
       "      <td>18213</td>\n",
       "      <td>29</td>\n",
       "      <td>Small Box</td>\n",
       "      <td>White Dual Perf Computer Printout Paper, 2700 ...</td>\n",
       "      <td>Paper</td>\n",
       "      <td>1955</td>\n",
       "    </tr>\n",
       "    <tr>\n",
       "      <th>5490</th>\n",
       "      <td>2009-10-28</td>\n",
       "      <td>32001</td>\n",
       "      <td>22</td>\n",
       "      <td>Small Pack</td>\n",
       "      <td>Executive Impressions 14\" Contract Wall Clock</td>\n",
       "      <td>Office Furnishings</td>\n",
       "      <td>803</td>\n",
       "    </tr>\n",
       "    <tr>\n",
       "      <th>2655</th>\n",
       "      <td>2008-05-23</td>\n",
       "      <td>13540</td>\n",
       "      <td>33</td>\n",
       "      <td>Small Box</td>\n",
       "      <td>Avery 510</td>\n",
       "      <td>Labels</td>\n",
       "      <td>166</td>\n",
       "    </tr>\n",
       "  </tbody>\n",
       "</table>\n",
       "</div>"
      ],
      "text/plain": [
       "Data Column         Order Date    Order ID Order Quantity Product Container  \\\n",
       "Physical Type   datetime64[ns]       Int64          Int64          category   \n",
       "Logical Type          Datetime     Integer        Integer       Categorical   \n",
       "Semantic Tag(s)             [] ['numeric']    ['numeric']      ['category']   \n",
       "1682                2007-11-24       48295             48        Medium Box   \n",
       "5601                2009-11-18       36640             18        Small Pack   \n",
       "3249                2008-10-09       18213             29         Small Box   \n",
       "5490                2009-10-28       32001             22        Small Pack   \n",
       "2655                2008-05-23       13540             33         Small Box   \n",
       "\n",
       "Data Column                                           Product Name  \\\n",
       "Physical Type                                               string   \n",
       "Logical Type                                       NaturalLanguage   \n",
       "Semantic Tag(s)                                                 []   \n",
       "1682             Soundgear Copyboard Conference Phone, Optional...   \n",
       "5601             Verbatim DVD-R, 3.95GB, SR, Mitsubishi Branded...   \n",
       "3249             White Dual Perf Computer Printout Paper, 2700 ...   \n",
       "5490                 Executive Impressions 14\" Contract Wall Clock   \n",
       "2655                                                     Avery 510   \n",
       "\n",
       "Data Column      Product Sub-Category       Sales  \n",
       "Physical Type                  string       Int64  \n",
       "Logical Type          NaturalLanguage     Integer  \n",
       "Semantic Tag(s)                    [] ['numeric']  \n",
       "1682                  Office Machines       11836  \n",
       "5601             Computer Peripherals         884  \n",
       "3249                            Paper        1955  \n",
       "5490               Office Furnishings         803  \n",
       "2655                           Labels         166  "
      ]
     },
     "execution_count": 23,
     "metadata": {},
     "output_type": "execute_result"
    }
   ],
   "source": [
    "X_train.head()"
   ]
  },
  {
   "cell_type": "markdown",
   "metadata": {},
   "source": [
    "### Running the AutoML to select the best algorithm"
   ]
  },
  {
   "cell_type": "code",
   "execution_count": 24,
   "metadata": {},
   "outputs": [
    {
     "data": {
      "text/plain": [
       "[<ProblemTypes.BINARY: 'binary'>,\n",
       " <ProblemTypes.MULTICLASS: 'multiclass'>,\n",
       " <ProblemTypes.REGRESSION: 'regression'>,\n",
       " <ProblemTypes.TIME_SERIES_REGRESSION: 'time series regression'>,\n",
       " <ProblemTypes.TIME_SERIES_BINARY: 'time series binary'>,\n",
       " <ProblemTypes.TIME_SERIES_MULTICLASS: 'time series multiclass'>]"
      ]
     },
     "execution_count": 24,
     "metadata": {},
     "output_type": "execute_result"
    }
   ],
   "source": [
    "import evalml\n",
    "evalml.problem_types.ProblemTypes.all_problem_types"
   ]
  },
  {
   "cell_type": "code",
   "execution_count": 27,
   "metadata": {},
   "outputs": [
    {
     "name": "stdout",
     "output_type": "stream",
     "text": [
      "Using default limit of max_batches=1.\n",
      "\n",
      "Generating pipelines to search over...\n",
      "*****************************\n",
      "* Beginning pipeline search *\n",
      "*****************************\n",
      "\n",
      "Optimizing for Log Loss Multiclass. \n",
      "Lower score is better.\n",
      "\n",
      "Using SequentialEngine to train and score pipelines.\n",
      "Searching up to 1 batches for a total of 9 pipelines. \n",
      "Allowed model families: xgboost, decision_tree, lightgbm, extra_trees, linear_model, random_forest, catboost\n",
      "\n"
     ]
    },
    {
     "data": {
      "application/vnd.jupyter.widget-view+json": {
       "model_id": "04047cc32e214088a48d398845f24987",
       "version_major": 2,
       "version_minor": 0
      },
      "text/plain": [
       "FigureWidget({\n",
       "    'data': [{'mode': 'lines+markers',\n",
       "              'name': 'Best Score',\n",
       "              'type'…"
      ]
     },
     "metadata": {},
     "output_type": "display_data"
    },
    {
     "name": "stdout",
     "output_type": "stream",
     "text": [
      "Batch 1: (1/9) Mode Baseline Multiclass Classificati... Elapsed:00:00\n",
      "\tStarting cross validation\n",
      "\tFinished cross validation - mean Log Loss Multiclass: 8.725\n",
      "Batch 1: (2/9) Decision Tree Classifier w/ Imputer +... Elapsed:00:00\n",
      "\tStarting cross validation\n",
      "\tFinished cross validation - mean Log Loss Multiclass: 0.701\n",
      "Batch 1: (3/9) LightGBM Classifier w/ Imputer + Text... Elapsed:00:34\n",
      "\tStarting cross validation\n",
      "\tFinished cross validation - mean Log Loss Multiclass: 0.398\n",
      "Batch 1: (4/9) Extra Trees Classifier w/ Imputer + T... Elapsed:01:09\n",
      "\tStarting cross validation\n",
      "\tFinished cross validation - mean Log Loss Multiclass: 0.434\n",
      "Batch 1: (5/9) Elastic Net Classifier w/ Imputer + T... Elapsed:01:44\n",
      "\tStarting cross validation\n",
      "\tFinished cross validation - mean Log Loss Multiclass: 0.760\n",
      "Batch 1: (6/9) CatBoost Classifier w/ Imputer + Text... Elapsed:02:18\n",
      "\tStarting cross validation\n",
      "\tFinished cross validation - mean Log Loss Multiclass: 0.835\n",
      "Batch 1: (7/9) XGBoost Classifier w/ Imputer + Text ... Elapsed:02:58\n",
      "\tStarting cross validation\n",
      "\tFinished cross validation - mean Log Loss Multiclass: 0.375\n",
      "Batch 1: (8/9) Random Forest Classifier w/ Imputer +... Elapsed:03:41\n",
      "\tStarting cross validation\n",
      "\tFinished cross validation - mean Log Loss Multiclass: 0.400\n",
      "Batch 1: (9/9) Logistic Regression Classifier w/ Imp... Elapsed:04:17\n",
      "\tStarting cross validation\n",
      "\tFinished cross validation - mean Log Loss Multiclass: 0.358\n",
      "\n",
      "Search finished after 04:59            \n",
      "Best pipeline: Logistic Regression Classifier w/ Imputer + Text Featurization Component + DateTime Featurization Component + One Hot Encoder + Standard Scaler\n",
      "Best pipeline Log Loss Multiclass: 0.358305\n"
     ]
    }
   ],
   "source": [
    "from evalml.automl import AutoMLSearch\n",
    "automl = AutoMLSearch(X_train=X_train, y_train=y_train, problem_type='multiclass')\n",
    "automl.search()"
   ]
  },
  {
   "cell_type": "code",
   "execution_count": 28,
   "metadata": {},
   "outputs": [
    {
     "data": {
      "text/html": [
       "<div>\n",
       "<style scoped>\n",
       "    .dataframe tbody tr th:only-of-type {\n",
       "        vertical-align: middle;\n",
       "    }\n",
       "\n",
       "    .dataframe tbody tr th {\n",
       "        vertical-align: top;\n",
       "    }\n",
       "\n",
       "    .dataframe thead th {\n",
       "        text-align: right;\n",
       "    }\n",
       "</style>\n",
       "<table border=\"1\" class=\"dataframe\">\n",
       "  <thead>\n",
       "    <tr style=\"text-align: right;\">\n",
       "      <th></th>\n",
       "      <th>id</th>\n",
       "      <th>pipeline_name</th>\n",
       "      <th>score</th>\n",
       "      <th>validation_score</th>\n",
       "      <th>percent_better_than_baseline</th>\n",
       "      <th>high_variance_cv</th>\n",
       "      <th>parameters</th>\n",
       "    </tr>\n",
       "  </thead>\n",
       "  <tbody>\n",
       "    <tr>\n",
       "      <th>0</th>\n",
       "      <td>8</td>\n",
       "      <td>Logistic Regression Classifier w/ Imputer + Te...</td>\n",
       "      <td>0.358305</td>\n",
       "      <td>0.356835</td>\n",
       "      <td>95.893551</td>\n",
       "      <td>False</td>\n",
       "      <td>{'Imputer': {'categorical_impute_strategy': 'm...</td>\n",
       "    </tr>\n",
       "    <tr>\n",
       "      <th>1</th>\n",
       "      <td>6</td>\n",
       "      <td>XGBoost Classifier w/ Imputer + Text Featuriza...</td>\n",
       "      <td>0.374668</td>\n",
       "      <td>0.384046</td>\n",
       "      <td>95.706013</td>\n",
       "      <td>False</td>\n",
       "      <td>{'Imputer': {'categorical_impute_strategy': 'm...</td>\n",
       "    </tr>\n",
       "    <tr>\n",
       "      <th>2</th>\n",
       "      <td>2</td>\n",
       "      <td>LightGBM Classifier w/ Imputer + Text Featuriz...</td>\n",
       "      <td>0.398489</td>\n",
       "      <td>0.399015</td>\n",
       "      <td>95.433007</td>\n",
       "      <td>False</td>\n",
       "      <td>{'Imputer': {'categorical_impute_strategy': 'm...</td>\n",
       "    </tr>\n",
       "    <tr>\n",
       "      <th>3</th>\n",
       "      <td>7</td>\n",
       "      <td>Random Forest Classifier w/ Imputer + Text Fea...</td>\n",
       "      <td>0.399911</td>\n",
       "      <td>0.400383</td>\n",
       "      <td>95.416706</td>\n",
       "      <td>False</td>\n",
       "      <td>{'Imputer': {'categorical_impute_strategy': 'm...</td>\n",
       "    </tr>\n",
       "    <tr>\n",
       "      <th>4</th>\n",
       "      <td>3</td>\n",
       "      <td>Extra Trees Classifier w/ Imputer + Text Featu...</td>\n",
       "      <td>0.433960</td>\n",
       "      <td>0.432431</td>\n",
       "      <td>95.026486</td>\n",
       "      <td>False</td>\n",
       "      <td>{'Imputer': {'categorical_impute_strategy': 'm...</td>\n",
       "    </tr>\n",
       "    <tr>\n",
       "      <th>5</th>\n",
       "      <td>1</td>\n",
       "      <td>Decision Tree Classifier w/ Imputer + Text Fea...</td>\n",
       "      <td>0.700770</td>\n",
       "      <td>0.701335</td>\n",
       "      <td>91.968633</td>\n",
       "      <td>False</td>\n",
       "      <td>{'Imputer': {'categorical_impute_strategy': 'm...</td>\n",
       "    </tr>\n",
       "    <tr>\n",
       "      <th>6</th>\n",
       "      <td>4</td>\n",
       "      <td>Elastic Net Classifier w/ Imputer + Text Featu...</td>\n",
       "      <td>0.759978</td>\n",
       "      <td>0.759147</td>\n",
       "      <td>91.290062</td>\n",
       "      <td>False</td>\n",
       "      <td>{'Imputer': {'categorical_impute_strategy': 'm...</td>\n",
       "    </tr>\n",
       "    <tr>\n",
       "      <th>7</th>\n",
       "      <td>5</td>\n",
       "      <td>CatBoost Classifier w/ Imputer + Text Featuriz...</td>\n",
       "      <td>0.834973</td>\n",
       "      <td>0.826383</td>\n",
       "      <td>90.430556</td>\n",
       "      <td>False</td>\n",
       "      <td>{'Imputer': {'categorical_impute_strategy': 'm...</td>\n",
       "    </tr>\n",
       "    <tr>\n",
       "      <th>8</th>\n",
       "      <td>0</td>\n",
       "      <td>Mode Baseline Multiclass Classification Pipeline</td>\n",
       "      <td>8.725412</td>\n",
       "      <td>8.725412</td>\n",
       "      <td>0.000000</td>\n",
       "      <td>False</td>\n",
       "      <td>{'Baseline Classifier': {'strategy': 'mode'}}</td>\n",
       "    </tr>\n",
       "  </tbody>\n",
       "</table>\n",
       "</div>"
      ],
      "text/plain": [
       "   id                                      pipeline_name     score  \\\n",
       "0   8  Logistic Regression Classifier w/ Imputer + Te...  0.358305   \n",
       "1   6  XGBoost Classifier w/ Imputer + Text Featuriza...  0.374668   \n",
       "2   2  LightGBM Classifier w/ Imputer + Text Featuriz...  0.398489   \n",
       "3   7  Random Forest Classifier w/ Imputer + Text Fea...  0.399911   \n",
       "4   3  Extra Trees Classifier w/ Imputer + Text Featu...  0.433960   \n",
       "5   1  Decision Tree Classifier w/ Imputer + Text Fea...  0.700770   \n",
       "6   4  Elastic Net Classifier w/ Imputer + Text Featu...  0.759978   \n",
       "7   5  CatBoost Classifier w/ Imputer + Text Featuriz...  0.834973   \n",
       "8   0   Mode Baseline Multiclass Classification Pipeline  8.725412   \n",
       "\n",
       "   validation_score  percent_better_than_baseline  high_variance_cv  \\\n",
       "0          0.356835                     95.893551             False   \n",
       "1          0.384046                     95.706013             False   \n",
       "2          0.399015                     95.433007             False   \n",
       "3          0.400383                     95.416706             False   \n",
       "4          0.432431                     95.026486             False   \n",
       "5          0.701335                     91.968633             False   \n",
       "6          0.759147                     91.290062             False   \n",
       "7          0.826383                     90.430556             False   \n",
       "8          8.725412                      0.000000             False   \n",
       "\n",
       "                                          parameters  \n",
       "0  {'Imputer': {'categorical_impute_strategy': 'm...  \n",
       "1  {'Imputer': {'categorical_impute_strategy': 'm...  \n",
       "2  {'Imputer': {'categorical_impute_strategy': 'm...  \n",
       "3  {'Imputer': {'categorical_impute_strategy': 'm...  \n",
       "4  {'Imputer': {'categorical_impute_strategy': 'm...  \n",
       "5  {'Imputer': {'categorical_impute_strategy': 'm...  \n",
       "6  {'Imputer': {'categorical_impute_strategy': 'm...  \n",
       "7  {'Imputer': {'categorical_impute_strategy': 'm...  \n",
       "8      {'Baseline Classifier': {'strategy': 'mode'}}  "
      ]
     },
     "execution_count": 28,
     "metadata": {},
     "output_type": "execute_result"
    }
   ],
   "source": [
    "automl.rankings"
   ]
  },
  {
   "cell_type": "markdown",
   "metadata": {},
   "source": [
    "### Best pipeline"
   ]
  },
  {
   "cell_type": "code",
   "execution_count": 29,
   "metadata": {},
   "outputs": [
    {
     "data": {
      "text/plain": [
       "GeneratedPipeline(parameters={'Imputer':{'categorical_impute_strategy': 'most_frequent', 'numeric_impute_strategy': 'mean', 'categorical_fill_value': None, 'numeric_fill_value': None}, 'DateTime Featurization Component':{'features_to_extract': ['year', 'month', 'day_of_week', 'hour'], 'encode_as_categories': False}, 'One Hot Encoder':{'top_n': 10, 'features_to_encode': None, 'categories': None, 'drop': 'if_binary', 'handle_unknown': 'ignore', 'handle_missing': 'error'}, 'Logistic Regression Classifier':{'penalty': 'l2', 'C': 1.0, 'n_jobs': -1, 'multi_class': 'auto', 'solver': 'lbfgs'},})"
      ]
     },
     "execution_count": 29,
     "metadata": {},
     "output_type": "execute_result"
    }
   ],
   "source": [
    "automl.best_pipeline"
   ]
  },
  {
   "cell_type": "code",
   "execution_count": 30,
   "metadata": {},
   "outputs": [],
   "source": [
    "best_pipeline=automl.best_pipeline"
   ]
  },
  {
   "cell_type": "markdown",
   "metadata": {},
   "source": [
    "### Check the best discription"
   ]
  },
  {
   "cell_type": "code",
   "execution_count": 31,
   "metadata": {},
   "outputs": [
    {
     "name": "stdout",
     "output_type": "stream",
     "text": [
      "***************************************************************************************************************************************************\n",
      "* Logistic Regression Classifier w/ Imputer + Text Featurization Component + DateTime Featurization Component + One Hot Encoder + Standard Scaler *\n",
      "***************************************************************************************************************************************************\n",
      "\n",
      "Problem Type: multiclass\n",
      "Model Family: Linear\n",
      "\n",
      "Pipeline Steps\n",
      "==============\n",
      "1. Imputer\n",
      "\t * categorical_impute_strategy : most_frequent\n",
      "\t * numeric_impute_strategy : mean\n",
      "\t * categorical_fill_value : None\n",
      "\t * numeric_fill_value : None\n",
      "2. Text Featurization Component\n",
      "3. DateTime Featurization Component\n",
      "\t * features_to_extract : ['year', 'month', 'day_of_week', 'hour']\n",
      "\t * encode_as_categories : False\n",
      "4. One Hot Encoder\n",
      "\t * top_n : 10\n",
      "\t * features_to_encode : None\n",
      "\t * categories : None\n",
      "\t * drop : if_binary\n",
      "\t * handle_unknown : ignore\n",
      "\t * handle_missing : error\n",
      "5. Standard Scaler\n",
      "6. Logistic Regression Classifier\n",
      "\t * penalty : l2\n",
      "\t * C : 1.0\n",
      "\t * n_jobs : -1\n",
      "\t * multi_class : auto\n",
      "\t * solver : lbfgs\n",
      "\n",
      "Training\n",
      "========\n",
      "Training for multiclass problems.\n",
      "Total training time (including CV): 41.5 seconds\n",
      "\n",
      "Cross Validation\n",
      "----------------\n",
      "             Log Loss Multiclass  MCC Multiclass  AUC Weighted  AUC Macro  AUC Micro  Precision Weighted  Precision Macro  Precision Micro  F1 Weighted  F1 Macro  F1 Micro  Balanced Accuracy Multiclass  Accuracy Multiclass # Training # Validation\n",
      "0                          0.357           0.704         0.785      0.790      0.951               0.781            0.621            0.883        0.828     0.642     0.883                         0.667                0.883   3022.000     2094.000\n",
      "1                          0.359           0.704         0.776      0.781      0.949               0.781            0.621            0.883        0.828     0.642     0.883                         0.667                0.883   3022.000     2094.000\n",
      "2                          0.359           0.706         0.780      0.784      0.950               0.782            0.622            0.883        0.829     0.642     0.883                         0.667                0.883   3026.000     2094.000\n",
      "mean                       0.358           0.705         0.781      0.785      0.950               0.781            0.621            0.883        0.828     0.642     0.883                         0.667                0.883          -            -\n",
      "std                        0.001           0.001         0.005      0.005      0.001               0.000            0.000            0.000        0.000     0.000     0.000                         0.000                0.000          -            -\n",
      "coef of var                0.004           0.001         0.006      0.006      0.001               0.001            0.000            0.000        0.000     0.000     0.000                         0.000                0.000          -            -\n"
     ]
    }
   ],
   "source": [
    "automl.describe_pipeline(automl.rankings.iloc[0][\"id\"])"
   ]
  },
  {
   "cell_type": "code",
   "execution_count": 45,
   "metadata": {},
   "outputs": [
    {
     "data": {
      "text/plain": [
       "OrderedDict([('F1 Weighted', 0.8285713711092542),\n",
       "             ('Precision Weighted', 0.7816236668107235),\n",
       "             ('Recall Weighted', 0.8828771483131763)])"
      ]
     },
     "execution_count": 45,
     "metadata": {},
     "output_type": "execute_result"
    }
   ],
   "source": [
    "### Evaluate on hold out data\n",
    "best_pipeline.score(X_test, y_test, objectives=[\"f1 Weighted\", \"Precision Weighted\",\"Recall Weighted\"])"
   ]
  },
  {
   "cell_type": "markdown",
   "metadata": {},
   "source": [
    "### Optimize"
   ]
  },
  {
   "cell_type": "code",
   "execution_count": 49,
   "metadata": {},
   "outputs": [
    {
     "name": "stdout",
     "output_type": "stream",
     "text": [
      "Generating pipelines to search over...\n",
      "*****************************\n",
      "* Beginning pipeline search *\n",
      "*****************************\n",
      "\n",
      "Optimizing for F1 Weighted. \n",
      "Greater score is better.\n",
      "\n",
      "Using SequentialEngine to train and score pipelines.\n",
      "Searching up to 1 batches for a total of 9 pipelines. \n",
      "Allowed model families: xgboost, decision_tree, lightgbm, extra_trees, linear_model, random_forest, catboost\n",
      "\n"
     ]
    },
    {
     "data": {
      "application/vnd.jupyter.widget-view+json": {
       "model_id": "02f795564157440aa1f1bb9e7376400e",
       "version_major": 2,
       "version_minor": 0
      },
      "text/plain": [
       "FigureWidget({\n",
       "    'data': [{'mode': 'lines+markers',\n",
       "              'name': 'Best Score',\n",
       "              'type'…"
      ]
     },
     "metadata": {},
     "output_type": "display_data"
    },
    {
     "name": "stdout",
     "output_type": "stream",
     "text": [
      "Batch 1: (1/9) Mode Baseline Multiclass Classificati... Elapsed:00:00\n",
      "\tStarting cross validation\n",
      "\tFinished cross validation - mean F1 Weighted: 0.639\n",
      "Batch 1: (2/9) Decision Tree Classifier w/ Imputer +... Elapsed:00:00\n",
      "\tStarting cross validation\n",
      "\tFinished cross validation - mean F1 Weighted: 0.797\n",
      "Batch 1: (3/9) LightGBM Classifier w/ Imputer + Text... Elapsed:00:25\n",
      "\tStarting cross validation\n",
      "\tFinished cross validation - mean F1 Weighted: 0.824\n",
      "Batch 1: (4/9) Extra Trees Classifier w/ Imputer + T... Elapsed:00:52\n",
      "\tStarting cross validation\n",
      "\tFinished cross validation - mean F1 Weighted: 0.828\n",
      "Batch 1: (5/9) Elastic Net Classifier w/ Imputer + T... Elapsed:01:19\n",
      "\tStarting cross validation\n",
      "\tFinished cross validation - mean F1 Weighted: 0.639\n",
      "Batch 1: (6/9) CatBoost Classifier w/ Imputer + Text... Elapsed:01:45\n",
      "\tStarting cross validation\n",
      "\tFinished cross validation - mean F1 Weighted: 0.828\n",
      "Batch 1: (7/9) XGBoost Classifier w/ Imputer + Text ... Elapsed:02:12\n",
      "\tStarting cross validation\n",
      "\tFinished cross validation - mean F1 Weighted: 0.827\n",
      "Batch 1: (8/9) Random Forest Classifier w/ Imputer +... Elapsed:02:40\n",
      "\tStarting cross validation\n",
      "\tFinished cross validation - mean F1 Weighted: 0.828\n",
      "Batch 1: (9/9) Logistic Regression Classifier w/ Imp... Elapsed:03:08\n",
      "\tStarting cross validation\n",
      "\tFinished cross validation - mean F1 Weighted: 0.828\n",
      "\n",
      "Search finished after 03:45            \n",
      "Best pipeline: Extra Trees Classifier w/ Imputer + Text Featurization Component + DateTime Featurization Component + One Hot Encoder\n",
      "Best pipeline F1 Weighted: 0.828290\n"
     ]
    }
   ],
   "source": [
    "automl_auc = AutoMLSearch(X_train=X_train, y_train=y_train,\n",
    "                          problem_type='multiclass',\n",
    "                          objective='f1 Weighted',\n",
    "                          additional_objectives=['f1 Weighted', 'precision Weighted'],\n",
    "                          max_batches=1,\n",
    "                          optimize_thresholds=True)\n",
    "\n",
    "automl_auc.search()"
   ]
  },
  {
   "cell_type": "code",
   "execution_count": 50,
   "metadata": {},
   "outputs": [
    {
     "data": {
      "text/html": [
       "<div>\n",
       "<style scoped>\n",
       "    .dataframe tbody tr th:only-of-type {\n",
       "        vertical-align: middle;\n",
       "    }\n",
       "\n",
       "    .dataframe tbody tr th {\n",
       "        vertical-align: top;\n",
       "    }\n",
       "\n",
       "    .dataframe thead th {\n",
       "        text-align: right;\n",
       "    }\n",
       "</style>\n",
       "<table border=\"1\" class=\"dataframe\">\n",
       "  <thead>\n",
       "    <tr style=\"text-align: right;\">\n",
       "      <th></th>\n",
       "      <th>id</th>\n",
       "      <th>pipeline_name</th>\n",
       "      <th>score</th>\n",
       "      <th>validation_score</th>\n",
       "      <th>percent_better_than_baseline</th>\n",
       "      <th>high_variance_cv</th>\n",
       "      <th>parameters</th>\n",
       "    </tr>\n",
       "  </thead>\n",
       "  <tbody>\n",
       "    <tr>\n",
       "      <th>0</th>\n",
       "      <td>3</td>\n",
       "      <td>Extra Trees Classifier w/ Imputer + Text Featu...</td>\n",
       "      <td>0.828290</td>\n",
       "      <td>0.828062</td>\n",
       "      <td>18.896811</td>\n",
       "      <td>False</td>\n",
       "      <td>{'Imputer': {'categorical_impute_strategy': 'm...</td>\n",
       "    </tr>\n",
       "    <tr>\n",
       "      <th>1</th>\n",
       "      <td>5</td>\n",
       "      <td>CatBoost Classifier w/ Imputer + Text Featuriz...</td>\n",
       "      <td>0.828290</td>\n",
       "      <td>0.828062</td>\n",
       "      <td>18.896811</td>\n",
       "      <td>False</td>\n",
       "      <td>{'Imputer': {'categorical_impute_strategy': 'm...</td>\n",
       "    </tr>\n",
       "    <tr>\n",
       "      <th>2</th>\n",
       "      <td>7</td>\n",
       "      <td>Random Forest Classifier w/ Imputer + Text Fea...</td>\n",
       "      <td>0.828290</td>\n",
       "      <td>0.828062</td>\n",
       "      <td>18.896811</td>\n",
       "      <td>False</td>\n",
       "      <td>{'Imputer': {'categorical_impute_strategy': 'm...</td>\n",
       "    </tr>\n",
       "    <tr>\n",
       "      <th>3</th>\n",
       "      <td>8</td>\n",
       "      <td>Logistic Regression Classifier w/ Imputer + Te...</td>\n",
       "      <td>0.828290</td>\n",
       "      <td>0.828062</td>\n",
       "      <td>18.896811</td>\n",
       "      <td>False</td>\n",
       "      <td>{'Imputer': {'categorical_impute_strategy': 'm...</td>\n",
       "    </tr>\n",
       "    <tr>\n",
       "      <th>4</th>\n",
       "      <td>6</td>\n",
       "      <td>XGBoost Classifier w/ Imputer + Text Featuriza...</td>\n",
       "      <td>0.826774</td>\n",
       "      <td>0.824289</td>\n",
       "      <td>18.745208</td>\n",
       "      <td>False</td>\n",
       "      <td>{'Imputer': {'categorical_impute_strategy': 'm...</td>\n",
       "    </tr>\n",
       "    <tr>\n",
       "      <th>5</th>\n",
       "      <td>2</td>\n",
       "      <td>LightGBM Classifier w/ Imputer + Text Featuriz...</td>\n",
       "      <td>0.824109</td>\n",
       "      <td>0.821821</td>\n",
       "      <td>18.478678</td>\n",
       "      <td>False</td>\n",
       "      <td>{'Imputer': {'categorical_impute_strategy': 'm...</td>\n",
       "    </tr>\n",
       "    <tr>\n",
       "      <th>6</th>\n",
       "      <td>1</td>\n",
       "      <td>Decision Tree Classifier w/ Imputer + Text Fea...</td>\n",
       "      <td>0.796957</td>\n",
       "      <td>0.788562</td>\n",
       "      <td>15.763557</td>\n",
       "      <td>False</td>\n",
       "      <td>{'Imputer': {'categorical_impute_strategy': 'm...</td>\n",
       "    </tr>\n",
       "    <tr>\n",
       "      <th>7</th>\n",
       "      <td>0</td>\n",
       "      <td>Mode Baseline Multiclass Classification Pipeline</td>\n",
       "      <td>0.639322</td>\n",
       "      <td>0.639322</td>\n",
       "      <td>0.000000</td>\n",
       "      <td>False</td>\n",
       "      <td>{'Baseline Classifier': {'strategy': 'mode'}}</td>\n",
       "    </tr>\n",
       "    <tr>\n",
       "      <th>8</th>\n",
       "      <td>4</td>\n",
       "      <td>Elastic Net Classifier w/ Imputer + Text Featu...</td>\n",
       "      <td>0.639322</td>\n",
       "      <td>0.639322</td>\n",
       "      <td>0.000000</td>\n",
       "      <td>False</td>\n",
       "      <td>{'Imputer': {'categorical_impute_strategy': 'm...</td>\n",
       "    </tr>\n",
       "  </tbody>\n",
       "</table>\n",
       "</div>"
      ],
      "text/plain": [
       "   id                                      pipeline_name     score  \\\n",
       "0   3  Extra Trees Classifier w/ Imputer + Text Featu...  0.828290   \n",
       "1   5  CatBoost Classifier w/ Imputer + Text Featuriz...  0.828290   \n",
       "2   7  Random Forest Classifier w/ Imputer + Text Fea...  0.828290   \n",
       "3   8  Logistic Regression Classifier w/ Imputer + Te...  0.828290   \n",
       "4   6  XGBoost Classifier w/ Imputer + Text Featuriza...  0.826774   \n",
       "5   2  LightGBM Classifier w/ Imputer + Text Featuriz...  0.824109   \n",
       "6   1  Decision Tree Classifier w/ Imputer + Text Fea...  0.796957   \n",
       "7   0   Mode Baseline Multiclass Classification Pipeline  0.639322   \n",
       "8   4  Elastic Net Classifier w/ Imputer + Text Featu...  0.639322   \n",
       "\n",
       "   validation_score  percent_better_than_baseline  high_variance_cv  \\\n",
       "0          0.828062                     18.896811             False   \n",
       "1          0.828062                     18.896811             False   \n",
       "2          0.828062                     18.896811             False   \n",
       "3          0.828062                     18.896811             False   \n",
       "4          0.824289                     18.745208             False   \n",
       "5          0.821821                     18.478678             False   \n",
       "6          0.788562                     15.763557             False   \n",
       "7          0.639322                      0.000000             False   \n",
       "8          0.639322                      0.000000             False   \n",
       "\n",
       "                                          parameters  \n",
       "0  {'Imputer': {'categorical_impute_strategy': 'm...  \n",
       "1  {'Imputer': {'categorical_impute_strategy': 'm...  \n",
       "2  {'Imputer': {'categorical_impute_strategy': 'm...  \n",
       "3  {'Imputer': {'categorical_impute_strategy': 'm...  \n",
       "4  {'Imputer': {'categorical_impute_strategy': 'm...  \n",
       "5  {'Imputer': {'categorical_impute_strategy': 'm...  \n",
       "6  {'Imputer': {'categorical_impute_strategy': 'm...  \n",
       "7      {'Baseline Classifier': {'strategy': 'mode'}}  \n",
       "8  {'Imputer': {'categorical_impute_strategy': 'm...  "
      ]
     },
     "execution_count": 50,
     "metadata": {},
     "output_type": "execute_result"
    }
   ],
   "source": [
    "automl_auc.rankings"
   ]
  },
  {
   "cell_type": "code",
   "execution_count": 51,
   "metadata": {},
   "outputs": [
    {
     "name": "stdout",
     "output_type": "stream",
     "text": [
      "*************************************************************************************************************************\n",
      "* Extra Trees Classifier w/ Imputer + Text Featurization Component + DateTime Featurization Component + One Hot Encoder *\n",
      "*************************************************************************************************************************\n",
      "\n",
      "Problem Type: multiclass\n",
      "Model Family: Extra Trees\n",
      "\n",
      "Pipeline Steps\n",
      "==============\n",
      "1. Imputer\n",
      "\t * categorical_impute_strategy : most_frequent\n",
      "\t * numeric_impute_strategy : mean\n",
      "\t * categorical_fill_value : None\n",
      "\t * numeric_fill_value : None\n",
      "2. Text Featurization Component\n",
      "3. DateTime Featurization Component\n",
      "\t * features_to_extract : ['year', 'month', 'day_of_week', 'hour']\n",
      "\t * encode_as_categories : False\n",
      "4. One Hot Encoder\n",
      "\t * top_n : 10\n",
      "\t * features_to_encode : None\n",
      "\t * categories : None\n",
      "\t * drop : if_binary\n",
      "\t * handle_unknown : ignore\n",
      "\t * handle_missing : error\n",
      "5. Extra Trees Classifier\n",
      "\t * n_estimators : 100\n",
      "\t * max_features : auto\n",
      "\t * max_depth : 6\n",
      "\t * min_samples_split : 2\n",
      "\t * min_weight_fraction_leaf : 0.0\n",
      "\t * n_jobs : -1\n",
      "\n",
      "Training\n",
      "========\n",
      "Training for multiclass problems.\n",
      "Total training time (including CV): 26.4 seconds\n",
      "\n",
      "Cross Validation\n",
      "----------------\n",
      "             F1 Weighted  Precision Weighted # Training # Validation\n",
      "0                  0.828               0.781   3022.000     2094.000\n",
      "1                  0.828               0.781   3022.000     2094.000\n",
      "2                  0.829               0.782   3026.000     2094.000\n",
      "mean               0.828               0.781          -            -\n",
      "std                0.000               0.000          -            -\n",
      "coef of var        0.000               0.001          -            -\n"
     ]
    }
   ],
   "source": [
    "automl_auc.describe_pipeline(automl_auc.rankings.iloc[0][\"id\"])"
   ]
  },
  {
   "cell_type": "code",
   "execution_count": 52,
   "metadata": {},
   "outputs": [],
   "source": [
    "best_pipeline_auc = automl_auc.best_pipeline"
   ]
  },
  {
   "cell_type": "code",
   "execution_count": 55,
   "metadata": {},
   "outputs": [
    {
     "data": {
      "text/plain": [
       "OrderedDict([('F1 Weighted', 0.8285713711092542),\n",
       "             ('Precision Weighted', 0.7816236668107235),\n",
       "             ('Recall Weighted', 0.8828771483131763)])"
      ]
     },
     "execution_count": 55,
     "metadata": {},
     "output_type": "execute_result"
    }
   ],
   "source": [
    "# get the score on holdout data\n",
    "best_pipeline_auc.score(X_test, y_test,  objectives=[\"F1 Weighted\", \"Precision Weighted\",\"Recall Weighted\"])"
   ]
  },
  {
   "cell_type": "code",
   "execution_count": 56,
   "metadata": {},
   "outputs": [],
   "source": [
    "best_pipeline.save(\"EvalMlmodel.pkl\")"
   ]
  },
  {
   "cell_type": "markdown",
   "metadata": {},
   "source": [
    "### Load the model"
   ]
  },
  {
   "cell_type": "code",
   "execution_count": 57,
   "metadata": {},
   "outputs": [],
   "source": [
    "check_model=automl.load('EvalMlmodel.pkl')"
   ]
  },
  {
   "cell_type": "code",
   "execution_count": 58,
   "metadata": {},
   "outputs": [
    {
     "data": {
      "text/html": [
       "<div>\n",
       "<style scoped>\n",
       "    .dataframe tbody tr th:only-of-type {\n",
       "        vertical-align: middle;\n",
       "    }\n",
       "\n",
       "    .dataframe tbody tr th {\n",
       "        vertical-align: top;\n",
       "    }\n",
       "\n",
       "    .dataframe thead th {\n",
       "        text-align: right;\n",
       "    }\n",
       "</style>\n",
       "<table border=\"1\" class=\"dataframe\">\n",
       "  <thead>\n",
       "    <tr style=\"text-align: right;\">\n",
       "      <th></th>\n",
       "      <th>Delivery Truck</th>\n",
       "      <th>Express Air</th>\n",
       "      <th>Regular Air</th>\n",
       "    </tr>\n",
       "  </thead>\n",
       "  <tbody>\n",
       "    <tr>\n",
       "      <th>0</th>\n",
       "      <td>0.998324</td>\n",
       "      <td>0.000669</td>\n",
       "      <td>0.001006</td>\n",
       "    </tr>\n",
       "    <tr>\n",
       "      <th>1</th>\n",
       "      <td>0.000608</td>\n",
       "      <td>0.216076</td>\n",
       "      <td>0.783316</td>\n",
       "    </tr>\n",
       "    <tr>\n",
       "      <th>2</th>\n",
       "      <td>0.000363</td>\n",
       "      <td>0.182444</td>\n",
       "      <td>0.817192</td>\n",
       "    </tr>\n",
       "    <tr>\n",
       "      <th>3</th>\n",
       "      <td>0.000475</td>\n",
       "      <td>0.176272</td>\n",
       "      <td>0.823253</td>\n",
       "    </tr>\n",
       "    <tr>\n",
       "      <th>4</th>\n",
       "      <td>0.998926</td>\n",
       "      <td>0.000513</td>\n",
       "      <td>0.000561</td>\n",
       "    </tr>\n",
       "    <tr>\n",
       "      <th>...</th>\n",
       "      <td>...</td>\n",
       "      <td>...</td>\n",
       "      <td>...</td>\n",
       "    </tr>\n",
       "    <tr>\n",
       "      <th>1566</th>\n",
       "      <td>0.000376</td>\n",
       "      <td>0.193347</td>\n",
       "      <td>0.806277</td>\n",
       "    </tr>\n",
       "    <tr>\n",
       "      <th>1567</th>\n",
       "      <td>0.000308</td>\n",
       "      <td>0.258603</td>\n",
       "      <td>0.741088</td>\n",
       "    </tr>\n",
       "    <tr>\n",
       "      <th>1568</th>\n",
       "      <td>0.000177</td>\n",
       "      <td>0.212643</td>\n",
       "      <td>0.787179</td>\n",
       "    </tr>\n",
       "    <tr>\n",
       "      <th>1569</th>\n",
       "      <td>0.000150</td>\n",
       "      <td>0.205380</td>\n",
       "      <td>0.794470</td>\n",
       "    </tr>\n",
       "    <tr>\n",
       "      <th>1570</th>\n",
       "      <td>0.000068</td>\n",
       "      <td>0.281492</td>\n",
       "      <td>0.718440</td>\n",
       "    </tr>\n",
       "  </tbody>\n",
       "</table>\n",
       "<p>1571 rows × 3 columns</p>\n",
       "</div>"
      ],
      "text/plain": [
       "      Delivery Truck  Express Air  Regular Air\n",
       "0           0.998324     0.000669     0.001006\n",
       "1           0.000608     0.216076     0.783316\n",
       "2           0.000363     0.182444     0.817192\n",
       "3           0.000475     0.176272     0.823253\n",
       "4           0.998926     0.000513     0.000561\n",
       "...              ...          ...          ...\n",
       "1566        0.000376     0.193347     0.806277\n",
       "1567        0.000308     0.258603     0.741088\n",
       "1568        0.000177     0.212643     0.787179\n",
       "1569        0.000150     0.205380     0.794470\n",
       "1570        0.000068     0.281492     0.718440\n",
       "\n",
       "[1571 rows x 3 columns]"
      ]
     },
     "execution_count": 58,
     "metadata": {},
     "output_type": "execute_result"
    }
   ],
   "source": [
    "check_model.predict_proba(X_test).to_dataframe()"
   ]
  },
  {
   "cell_type": "code",
   "execution_count": null,
   "metadata": {},
   "outputs": [],
   "source": []
  }
 ],
 "metadata": {
  "kernelspec": {
   "display_name": "python3.7",
   "language": "python",
   "name": "python3.7"
  },
  "language_info": {
   "codemirror_mode": {
    "name": "ipython",
    "version": 3
   },
   "file_extension": ".py",
   "mimetype": "text/x-python",
   "name": "python",
   "nbconvert_exporter": "python",
   "pygments_lexer": "ipython3",
   "version": "3.7.6"
  }
 },
 "nbformat": 4,
 "nbformat_minor": 4
}
